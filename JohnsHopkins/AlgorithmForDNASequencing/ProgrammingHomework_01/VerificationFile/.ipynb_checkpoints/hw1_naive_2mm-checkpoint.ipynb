{
 "cells": [
  {
   "cell_type": "code",
   "execution_count": 1,
   "metadata": {
    "collapsed": true
   },
   "outputs": [],
   "source": [
    "# Implement the naive_2mm function\n",
    "from naive_2mm import naive_2mm"
   ]
  },
  {
   "cell_type": "markdown",
   "metadata": {},
   "source": [
    "### Example 1"
   ]
  },
  {
   "cell_type": "code",
   "execution_count": 2,
   "metadata": {
    "collapsed": false
   },
   "outputs": [
    {
     "name": "stdout",
     "output_type": "stream",
     "text": [
      "[10, 24, 38]\n"
     ]
    }
   ],
   "source": [
    "p = 'CTGT'\n",
    "ten_as = 'AAAAAAAAAA'\n",
    "t = ten_as + 'CTGT' + ten_as + 'CTTT' + ten_as + 'CGGG' + ten_as\n",
    "occurrences = naive_2mm(p, t)\n",
    "print(occurrences)"
   ]
  },
  {
   "cell_type": "markdown",
   "metadata": {},
   "source": [
    "### Example 2"
   ]
  },
  {
   "cell_type": "code",
   "execution_count": 1,
   "metadata": {
    "collapsed": false
   },
   "outputs": [
    {
     "name": "stderr",
     "output_type": "stream",
     "text": [
      "'wget' is not recognized as an internal or external command,\n",
      "operable program or batch file.\n"
     ]
    }
   ],
   "source": [
    "# Phi-X genome\n",
    "!wget http://d396qusza40orc.cloudfront.net/ads1/data/phix.fa"
   ]
  },
  {
   "cell_type": "code",
   "execution_count": 2,
   "metadata": {
    "collapsed": true
   },
   "outputs": [],
   "source": [
    "def readGenome(filename):\n",
    "    genome = ''\n",
    "    with open(filename, 'r') as f:\n",
    "        for line in f:\n",
    "            # ignore header line with genome information\n",
    "            if not line[0] == '>':\n",
    "                genome += line.rstrip()\n",
    "    return genome"
   ]
  },
  {
   "cell_type": "code",
   "execution_count": 3,
   "metadata": {
    "collapsed": true
   },
   "outputs": [],
   "source": [
    "phix_genome = readGenome('phix.fa')"
   ]
  },
  {
   "cell_type": "code",
   "execution_count": 4,
   "metadata": {
    "collapsed": true
   },
   "outputs": [],
   "source": [
    "def naive_2mm(p, t):\n",
    "    appearance = []    \n",
    "    \n",
    "    for i in range(len(t) - len(p) + 1):\n",
    "        for j in range(len(p)):\n",
    "            match = 0\n",
    "            if t[i + j] != p[j]:\n",
    "                match += 1\n",
    "                if match == 3:\n",
    "                    break                \n",
    "        if match <= 2:\n",
    "            appearance.append(i)\n",
    "            \n",
    "    return appearance"
   ]
  },
  {
   "cell_type": "code",
   "execution_count": 5,
   "metadata": {
    "collapsed": true
   },
   "outputs": [],
   "source": [
    "occurrences = naive_2mm('GATTACA', phix_genome)"
   ]
  },
  {
   "cell_type": "code",
   "execution_count": 6,
   "metadata": {
    "collapsed": false
   },
   "outputs": [
    {
     "name": "stdout",
     "output_type": "stream",
     "text": [
      "offset of leftmost occurrence: 0\n"
     ]
    }
   ],
   "source": [
    "print('offset of leftmost occurrence: %d' % min(occurrences))"
   ]
  },
  {
   "cell_type": "code",
   "execution_count": 8,
   "metadata": {
    "collapsed": false
   },
   "outputs": [
    {
     "name": "stdout",
     "output_type": "stream",
     "text": [
      "# occurrences: 79\n"
     ]
    }
   ],
   "source": [
    "print('# occurrences: %d' % len(occurrences))"
   ]
  }
 ],
 "metadata": {
  "kernelspec": {
   "display_name": "Python 3",
   "language": "python",
   "name": "python3"
  },
  "language_info": {
   "codemirror_mode": {
    "name": "ipython",
    "version": 3
   },
   "file_extension": ".py",
   "mimetype": "text/x-python",
   "name": "python",
   "nbconvert_exporter": "python",
   "pygments_lexer": "ipython3",
   "version": "3.4.3"
  }
 },
 "nbformat": 4,
 "nbformat_minor": 0
}
