{
 "cells": [
  {
   "cell_type": "code",
   "execution_count": null,
   "metadata": {
    "collapsed": true
   },
   "outputs": [],
   "source": [
    "import urllib\n",
    "import sqlite3\n",
    "import json\n",
    "import time\n",
    "import ssl\n",
    "\n",
    "serviceurl = \"http://maps.googleapis.com/maps/api/geocode/json?\"\n",
    "\n",
    "# Deal with SSL certificate anomalies Python > 2.7\n",
    "# scontext = ssl.SSLContext(ssl.PROTOCOL_TLSv1)\n",
    "scontext = None\n",
    "\n",
    "conn = sqlite3.connect('geodata.sqlite')\n",
    "cur = conn.cursor()\n",
    "\n",
    "cur.execute('''\n",
    "CREATE TABLE IF NOT EXISTS Locations (address TEXT, geodata TEXT)''')\n",
    "\n",
    "fh = open(\"where.data\")\n",
    "count = 0\n",
    "for line in fh:\n",
    "    if count > 200 : break\n",
    "    address = line.strip()\n",
    "    print ''\n",
    "    cur.execute(\"SELECT geodata FROM Locations WHERE address= ?\", (buffer(address), ))\n",
    "\n",
    "    try:\n",
    "        data = cur.fetchone()[0]\n",
    "        print \"Found in database \",address\n",
    "        continue\n",
    "    except:\n",
    "        pass\n",
    "\n",
    "    print 'Resolving', address\n",
    "    url = serviceurl + urllib.urlencode({\"sensor\":\"false\", \"address\": address})\n",
    "    print 'Retrieving', url\n",
    "    uh = urllib.urlopen(url, context=scontext)\n",
    "    data = uh.read()\n",
    "    print 'Retrieved',len(data),'characters',data[:20].replace('\\n',' ')\n",
    "    count = count + 1\n",
    "    try: \n",
    "        js = json.loads(str(data))\n",
    "        # print js  # We print in case unicode causes an error\n",
    "    except: \n",
    "        continue\n",
    "\n",
    "    if 'status' not in js or (js['status'] != 'OK' and js['status'] != 'ZERO_RESULTS') : \n",
    "        print '==== Failure To Retrieve ===='\n",
    "        print data\n",
    "        break\n",
    "\n",
    "    cur.execute('''INSERT INTO Locations (address, geodata) \n",
    "            VALUES ( ?, ? )''', ( buffer(address),buffer(data) ) )\n",
    "    conn.commit() \n",
    "    time.sleep(1)\n",
    "\n",
    "print \"Run geodump.py to read the data from the database so you can visualize it on a map.\"\n"
   ]
  }
 ],
 "metadata": {
  "kernelspec": {
   "display_name": "Python 2",
   "language": "python",
   "name": "python2"
  },
  "language_info": {
   "codemirror_mode": {
    "name": "ipython",
    "version": 2
   },
   "file_extension": ".py",
   "mimetype": "text/x-python",
   "name": "python",
   "nbconvert_exporter": "python",
   "pygments_lexer": "ipython2",
   "version": "2.7.11"
  }
 },
 "nbformat": 4,
 "nbformat_minor": 0
}
