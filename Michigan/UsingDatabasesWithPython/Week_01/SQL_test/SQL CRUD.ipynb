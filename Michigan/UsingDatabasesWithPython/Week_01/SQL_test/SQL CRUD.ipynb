{
 "cells": [
  {
   "cell_type": "markdown",
   "metadata": {},
   "source": [
    "# SQL CRUD\n",
    "**C**: Create\n",
    "<br>\n",
    "**R**: Retrieve\n",
    "<br>\n",
    "**U**: Update\n",
    "<br>\n",
    "**D**: Delete"
   ]
  },
  {
   "cell_type": "markdown",
   "metadata": {},
   "source": [
    "# Create"
   ]
  },
  {
   "cell_type": "markdown",
   "metadata": {},
   "source": [
    "<font color=\"blue\">**CREATE TABLE**</font> <font color=\"brown\">table_00</font><font color=\"green\">(\n",
    "\n",
    "                        name</font> <font color='blue'>**VARCHAR**</font>(120), \n",
    "                        \n",
    "                        <font color = 'green'>hospital</font> <font color = 'blue'>**VARCHAR**</font>(300)\n",
    "                        \n",
    "                        <font color='green'>)</font>"
   ]
  },
  {
   "cell_type": "markdown",
   "metadata": {},
   "source": [
    "**<font color=\"blue\">CREATE TABLE</font>** <font color=\"brown\">table_01</font><font color=\"green\">(name</font> <font color='blue'>**VARCHAR**</font>(120), <font color='green'>title</font> <font color='blue'>**VARCHAR**</font>(300<font color='green'>))</font>\n",
    "____________________________"
   ]
  },
  {
   "cell_type": "markdown",
   "metadata": {},
   "source": [
    "# Retrieve"
   ]
  },
  {
   "cell_type": "markdown",
   "metadata": {},
   "source": [
    "<font color='blue'>**SELECT**</font> <font color='green'>*****</font> <font color='blue'>**FROM**</font> <font color='brown'>table_00</font>\n",
    "<br>\n",
    "<font color='blue'>**SELECT**</font> <font color='green'>name</font> <font color='blue'>**FROM**</font> <font color='brown'>table_00</font>\n",
    "<br>\n",
    "<font color='blue'>**SELECT**</font> <font color='green'>name</font> <font color='blue'>**FROM**</font> <font color='brown'>table_00</font> <font color='blue'>**WHERE**</font> <font color='green'>hospital='Shengjing Hospital of China Medical University'</font>\n",
    "<br>\n",
    "<font color='blue'>**SELECT**</font> <font color='green'>name</font> <font color='blue'>**FROM**</font> <font color='brown'>table_00</font> <font color='blue'>**ORDER BY**</font> <font color='green'>hospital</font>\n",
    "___________________\n"
   ]
  },
  {
   "cell_type": "markdown",
   "metadata": {},
   "source": [
    "# Update"
   ]
  },
  {
   "cell_type": "markdown",
   "metadata": {},
   "source": [
    "**Insert**"
   ]
  },
  {
   "cell_type": "markdown",
   "metadata": {},
   "source": [
    "**<font color=\"blue\">INSERT INTO**</font> <font color='brown'>table_00</font><font color='green'>(name, hospital)</font> <font color=\"blue\">**VALUES**</font><font color=\"green\">('Chunyu Fan', \"People's Hospital of Liaoning Province\")</font>"
   ]
  },
  {
   "cell_type": "markdown",
   "metadata": {},
   "source": [
    "**Update**"
   ]
  },
  {
   "cell_type": "markdown",
   "metadata": {},
   "source": [
    "**<font color=\"blue\">UPDATE</font>** <font color='brown'>table_00</font> **<font color=\"blue\">SET</font>** <font color='green'>name='Yawei Jin'</font> **<font color=\"blue\">WHERE</font>** <font color='green'>hospital=\"People's Hospital of Liaoning Province\"</font>\n",
    "_________________________"
   ]
  },
  {
   "cell_type": "markdown",
   "metadata": {
    "collapsed": true
   },
   "source": [
    "# Delete"
   ]
  },
  {
   "cell_type": "markdown",
   "metadata": {},
   "source": [
    "**<font color='blue'>DELETE FROM</font>** <font color='brown'>table_00</font> <font color='blue'>**WHERE**</font> <font color='green'>name='Deling Zou'</font>\n",
    "__________________"
   ]
  },
  {
   "cell_type": "markdown",
   "metadata": {},
   "source": [
    "# Practice"
   ]
  },
  {
   "cell_type": "code",
   "execution_count": 6,
   "metadata": {
    "collapsed": true
   },
   "outputs": [],
   "source": [
    "import sqlite3"
   ]
  },
  {
   "cell_type": "code",
   "execution_count": 7,
   "metadata": {
    "collapsed": true
   },
   "outputs": [],
   "source": [
    "conn = sqlite3.connect('SQL_CRUD_Test.sqlite')"
   ]
  },
  {
   "cell_type": "code",
   "execution_count": 8,
   "metadata": {
    "collapsed": false
   },
   "outputs": [],
   "source": [
    "cur = conn.cursor()"
   ]
  },
  {
   "cell_type": "code",
   "execution_count": 9,
   "metadata": {
    "collapsed": true
   },
   "outputs": [],
   "source": [
    "str = cur.execute('SELECT * FROM table_00')"
   ]
  },
  {
   "cell_type": "code",
   "execution_count": 10,
   "metadata": {
    "collapsed": false
   },
   "outputs": [
    {
     "data": {
      "text/plain": [
       "<sqlite3.Cursor at 0x4040ce0>"
      ]
     },
     "execution_count": 10,
     "metadata": {},
     "output_type": "execute_result"
    }
   ],
   "source": [
    "str"
   ]
  },
  {
   "cell_type": "code",
   "execution_count": 11,
   "metadata": {
    "collapsed": false
   },
   "outputs": [
    {
     "data": {
      "text/plain": [
       "('Changsheng Ma', 'Anzhen Hospital of Capital Medical University')"
      ]
     },
     "execution_count": 11,
     "metadata": {},
     "output_type": "execute_result"
    }
   ],
   "source": [
    "str.fetchone()"
   ]
  },
  {
   "cell_type": "code",
   "execution_count": 12,
   "metadata": {
    "collapsed": false
   },
   "outputs": [
    {
     "data": {
      "text/plain": [
       "<sqlite3.Cursor at 0x4040ce0>"
      ]
     },
     "execution_count": 12,
     "metadata": {},
     "output_type": "execute_result"
    }
   ],
   "source": [
    "cur.execute('INSERT INTO table_01(name, title) VALUES(\"Chuanhe Wang\", \"Resident Dr.\")')"
   ]
  },
  {
   "cell_type": "code",
   "execution_count": 13,
   "metadata": {
    "collapsed": false
   },
   "outputs": [],
   "source": [
    "conn.commit()"
   ]
  },
  {
   "cell_type": "code",
   "execution_count": 14,
   "metadata": {
    "collapsed": true
   },
   "outputs": [],
   "source": [
    "cur.close()"
   ]
  }
 ],
 "metadata": {
  "kernelspec": {
   "display_name": "Python 3",
   "language": "python",
   "name": "python3"
  },
  "language_info": {
   "codemirror_mode": {
    "name": "ipython",
    "version": 3
   },
   "file_extension": ".py",
   "mimetype": "text/x-python",
   "name": "python",
   "nbconvert_exporter": "python",
   "pygments_lexer": "ipython3",
   "version": "3.5.1"
  }
 },
 "nbformat": 4,
 "nbformat_minor": 0
}
