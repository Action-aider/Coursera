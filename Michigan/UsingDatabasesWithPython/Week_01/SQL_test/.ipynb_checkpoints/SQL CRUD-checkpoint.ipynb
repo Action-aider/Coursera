{
 "cells": [
  {
   "cell_type": "markdown",
   "metadata": {},
   "source": [
    "# SQL CRUD\n",
    "**C**: Create\n",
    "\n",
    "**R**: Retrieve\n",
    "\n",
    "**U**: Update\n",
    "\n",
    "**D**: Delete"
   ]
  },
  {
   "cell_type": "markdown",
   "metadata": {},
   "source": [
    "# Create"
   ]
  },
  {
   "cell_type": "markdown",
   "metadata": {},
   "source": [
    "<font color=\"blue\">**CREATE TABLE**</font> <font color=\"brown\">table_00</font><font color=\"green\">(\n",
    "\n",
    "                        name</font> <font color='blue'>**VARCHAR**</font>(120), \n",
    "                        \n",
    "                        <font color = 'green'>hospital</font> <font color = 'blue'>**VARCHAR**</font>(300)\n",
    "                        \n",
    "                        <font color='green'>)</font>"
   ]
  },
  {
   "cell_type": "markdown",
   "metadata": {},
   "source": [
    "**<font color=\"blue\">CREATE TABLE</font>** <font color=\"brown\">table_01</font><font color=\"green\">(name</font> <font color='blue'>**VARCHAR**</font>(120), <font color='green'>title</font> <font color='blue'>**VARCHAR**</font>(300<font color='green'>))</font>\n",
    "____________________________"
   ]
  },
  {
   "cell_type": "markdown",
   "metadata": {},
   "source": [
    "# Retrieve"
   ]
  },
  {
   "cell_type": "markdown",
   "metadata": {},
   "source": [
    "<font color='blue'>**SELECT**</font> <font color='green'>*****</font> <font color='blue'>**FROM**</font> <font color='brown'>table_00</font>\n",
    "<br>\n",
    "<font color='blue'>**SELECT**</font> <font color='green'>name</font> <font color='blue'>**FROM**</font> <font color='brown'>table_00</font>\n",
    "<br>\n",
    "<font color='blue'>**SELECT**</font> <font color='green'>name</font> <font color='blue'>**FROM**</font> <font color='brown'>table_00</font> <font color='blue'>**WHERE**</font> <font color='green'>hospital='Shengjing Hospital of China Medical University'</font>\n",
    "<br>\n",
    "<font color='blue'>**SELECT**</font> <font color='green'>name</font> <font color='blue'>**FROM**</font> <font color='brown'>table_00</font> <font color='blue'>**ORDER BY**</font> <font color='green'>hospital</font>\n"
   ]
  },
  {
   "cell_type": "markdown",
   "metadata": {},
   "source": [
    "# Update"
   ]
  },
  {
   "cell_type": "markdown",
   "metadata": {},
   "source": [
    "**Insert**"
   ]
  },
  {
   "cell_type": "markdown",
   "metadata": {},
   "source": [
    "**<font color=\"blue\">INSERT INTO**</font> <font color='brown'>table_00</font><font color='green'>(name, hospital)</font> <font color=\"blue\">**VALUES**</font><font color=\"green\">('Chunyu Fan', \"People's Hospital of Liaoning Province\")</font>"
   ]
  },
  {
   "cell_type": "markdown",
   "metadata": {},
   "source": [
    "**Update**"
   ]
  },
  {
   "cell_type": "markdown",
   "metadata": {},
   "source": [
    "**<font color=\"blue\">UPDATE</font>** <font color='brown'>table_00</font> **<font color=\"blue\">SET</font>** <font color='green'>name='Yawei Jin'</font> **<font color=\"blue\">WHERE</font>** <font color='green'>hospital=\"People's Hospital of Liaoning Province\"</font>\n",
    "_________________________"
   ]
  },
  {
   "cell_type": "markdown",
   "metadata": {
    "collapsed": true
   },
   "source": [
    "# Delete"
   ]
  },
  {
   "cell_type": "markdown",
   "metadata": {},
   "source": [
    "**<font color='blue'>DELETE FROM</font>** <font color='brown'>table_00</font> <font color='blue'>**WHERE**</font> <font color='green'>name='Deling Zou'</font>\n",
    "__________________"
   ]
  },
  {
   "cell_type": "markdown",
   "metadata": {},
   "source": [
    "_______________________"
   ]
  },
  {
   "cell_type": "markdown",
   "metadata": {},
   "source": [
    "# Assignment Example"
   ]
  },
  {
   "cell_type": "markdown",
   "metadata": {},
   "source": [
    "**Import the Module for SQL:** sqlite3"
   ]
  },
  {
   "cell_type": "code",
   "execution_count": null,
   "metadata": {
    "collapsed": true
   },
   "outputs": [],
   "source": [
    "import sqlite3"
   ]
  },
  {
   "cell_type": "markdown",
   "metadata": {},
   "source": [
    "**Establish the connection to DB**"
   ]
  },
  {
   "cell_type": "code",
   "execution_count": null,
   "metadata": {
    "collapsed": true
   },
   "outputs": [],
   "source": [
    "conn = sqlite3.connect('emaildb.sqlite')"
   ]
  },
  {
   "cell_type": "markdown",
   "metadata": {},
   "source": [
    "**Create a cursor**"
   ]
  },
  {
   "cell_type": "code",
   "execution_count": null,
   "metadata": {
    "collapsed": true
   },
   "outputs": [],
   "source": [
    "cur = conn.cursor()"
   ]
  },
  {
   "cell_type": "markdown",
   "metadata": {},
   "source": [
    "**Delete the table having the same name**"
   ]
  },
  {
   "cell_type": "code",
   "execution_count": null,
   "metadata": {
    "collapsed": true
   },
   "outputs": [],
   "source": [
    "cur.execute('''\n",
    "DROP TABLE IF EXISTS Counts''')"
   ]
  },
  {
   "cell_type": "markdown",
   "metadata": {},
   "source": [
    "**Create the table**: Counts\n",
    "<br>\n",
    "**<font color=\"blue\">CREATE TABLE</font>** <font color=\"brown\">Counts</font><font color=\"green\">(email TEXT, count INTEGER)</font>"
   ]
  },
  {
   "cell_type": "code",
   "execution_count": null,
   "metadata": {
    "collapsed": true
   },
   "outputs": [],
   "source": [
    "cur.execute('''\n",
    "CREATE TABLE Counts (email TEXT, count INTEGER)''')"
   ]
  },
  {
   "cell_type": "markdown",
   "metadata": {},
   "source": [
    "**Open the file**"
   ]
  },
  {
   "cell_type": "code",
   "execution_count": null,
   "metadata": {
    "collapsed": true
   },
   "outputs": [],
   "source": [
    "fname = input('Enter file name: ')\n",
    "if ( len(fname) < 1 ) : fname = 'mbox.txt'\n",
    "fh = open(fname)"
   ]
  },
  {
   "cell_type": "markdown",
   "metadata": {},
   "source": [
    "**File Operations**"
   ]
  },
  {
   "cell_type": "code",
   "execution_count": null,
   "metadata": {
    "collapsed": true
   },
   "outputs": [],
   "source": [
    "for line in fh:\n",
    "    if not line.startswith('From: ') : continue\n",
    "    pieces = line.split()\n",
    "    email = pieces[1]\n",
    "    cur.execute('SELECT count FROM Counts WHERE email = ? ', (email, ))\n",
    "    row = cur.fetchone()\n",
    "    if row is None:\n",
    "        cur.execute('''INSERT INTO Counts (email, count) \n",
    "                VALUES ( ?, 1 )''', ( email, ) ) #Beware! The placeholder item should be implemented with **Tuple**!\n",
    "    else : \n",
    "        cur.execute('UPDATE Counts SET count=count+1 WHERE email = ?', \n",
    "            (email, ))\n",
    "    conn.commit()"
   ]
  },
  {
   "cell_type": "markdown",
   "metadata": {},
   "source": [
    "**Output**"
   ]
  },
  {
   "cell_type": "code",
   "execution_count": null,
   "metadata": {
    "collapsed": true
   },
   "outputs": [],
   "source": [
    "# https://www.sqlite.org/lang_select.html\n",
    "sqlstr = 'SELECT email, count FROM Counts ORDER BY count DESC LIMIT 10'\n",
    "\n",
    "for row in cur.execute(sqlstr) :\n",
    "    print(str(row[0]), row[1])\n",
    "\n",
    "cur.close()"
   ]
  },
  {
   "cell_type": "markdown",
   "metadata": {},
   "source": [
    "____________________________"
   ]
  },
  {
   "cell_type": "markdown",
   "metadata": {},
   "source": [
    "# My Code of the Week 1 Assignment"
   ]
  },
  {
   "cell_type": "code",
   "execution_count": null,
   "metadata": {
    "collapsed": true
   },
   "outputs": [],
   "source": [
    "import sqlite3\n",
    "\n",
    "conn = sqlite3.connect('emaildb.sqlite')\n",
    "cur = conn.cursor()\n",
    "\n",
    "cur.execute('''\n",
    "DROP TABLE IF EXISTS Counts''')\n",
    "\n",
    "cur.execute('''\n",
    "CREATE TABLE Counts (org TEXT, count INTEGER)''')\n",
    "\n",
    "fname = input('Enter file name: ')\n",
    "if ( len(fname) < 1 ) : fname = 'mbox.txt'\n",
    "fh = open(fname)\n",
    "for line in fh:\n",
    "    if not line.startswith('From: ') : continue\n",
    "    pieces = line.split()\n",
    "    email = pieces[1]\n",
    "    pieces2 = email.split('@') #The difference is here, split the email address!\n",
    "    org = pieces2[1]\n",
    "    cur.execute('SELECT count FROM Counts WHERE org = ? ', (org, ))\n",
    "    row = cur.fetchone()\n",
    "    if row is None:\n",
    "        cur.execute('''INSERT INTO Counts (org, count) \n",
    "                VALUES ( ?, 1 )''', ( org, ) )\n",
    "    else : \n",
    "        cur.execute('UPDATE Counts SET count=count+1 WHERE org = ?', \n",
    "            (org, ))\n",
    "    conn.commit()\n",
    "\n",
    "# https://www.sqlite.org/lang_select.html\n",
    "sqlstr = 'SELECT org, count FROM Counts ORDER BY count DESC LIMIT 10'\n",
    "\n",
    "for row in cur.execute(sqlstr) :\n",
    "    print(str(row[0]), row[1])\n",
    "\n",
    "cur.close()"
   ]
  }
 ],
 "metadata": {
  "kernelspec": {
   "display_name": "Python 3",
   "language": "python",
   "name": "python3"
  },
  "language_info": {
   "codemirror_mode": {
    "name": "ipython",
    "version": 3
   },
   "file_extension": ".py",
   "mimetype": "text/x-python",
   "name": "python",
   "nbconvert_exporter": "python",
   "pygments_lexer": "ipython3",
   "version": "3.5.1"
  }
 },
 "nbformat": 4,
 "nbformat_minor": 0
}
